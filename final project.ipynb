{
 "cells": [
  {
   "cell_type": "markdown",
   "id": "3ba6b527",
   "metadata": {},
   "source": [
    "# Introduction\n",
    "\n",
    "Introduce the project, and your approach, talk about the process of how you came up with the metric and some alternatives you may have explored."
   ]
  },
  {
   "cell_type": "markdown",
   "id": "0131438c",
   "metadata": {},
   "source": [
    "# The Metric\n",
    "\n",
    "Describe your metric, and what features are you measuring. What datasets are you using?"
   ]
  },
  {
   "cell_type": "markdown",
   "id": "9a5a56f7",
   "metadata": {},
   "source": [
    "## Dataset 1 (sam)"
   ]
  },
  {
   "cell_type": "markdown",
   "id": "fe46062a",
   "metadata": {},
   "source": [
    "## Dataset 2 (sid)"
   ]
  },
  {
   "cell_type": "markdown",
   "id": "bc4b8f70",
   "metadata": {},
   "source": [
    "## Dataset 3 (sam)"
   ]
  },
  {
   "cell_type": "markdown",
   "id": "9aa3786f",
   "metadata": {},
   "source": [
    "# The Best Neighborhood\n",
    "Apply the metric from the previous section to determine the best neighborhood in Pittsburgh. Beyond just executing code, provide a narrative about why you think this is the best neighborhood. Incorporate a data visualization, perhaps to rank all of the neighborhoods or show a neighborhood’s best-ness over time. The key is to make a data driven argument."
   ]
  },
  {
   "cell_type": "markdown",
   "id": "b0a4c825",
   "metadata": {},
   "source": [
    "# Conclusion\n",
    "\n",
    "Reflect on how the data-driven determination of “best neighborhood” is the same or different from your personal favorite neighborhood. Each member of the group should write their own response to this."
   ]
  },
  {
   "cell_type": "code",
   "execution_count": null,
   "id": "b7f2fedb",
   "metadata": {},
   "outputs": [],
   "source": []
  }
 ],
 "metadata": {
  "kernelspec": {
   "display_name": "Python 3 (ipykernel)",
   "language": "python",
   "name": "python3"
  },
  "language_info": {
   "codemirror_mode": {
    "name": "ipython",
    "version": 3
   },
   "file_extension": ".py",
   "mimetype": "text/x-python",
   "name": "python",
   "nbconvert_exporter": "python",
   "pygments_lexer": "ipython3",
   "version": "3.8.6"
  }
 },
 "nbformat": 4,
 "nbformat_minor": 5
}
